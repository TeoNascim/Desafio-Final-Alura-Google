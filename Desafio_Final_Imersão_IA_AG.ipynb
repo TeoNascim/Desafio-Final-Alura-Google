{
  "nbformat": 4,
  "nbformat_minor": 0,
  "metadata": {
    "colab": {
      "provenance": [],
      "authorship_tag": "ABX9TyO8fHAGBY+bAvPnCNJjhEob",
      "include_colab_link": true
    },
    "kernelspec": {
      "name": "python3",
      "display_name": "Python 3"
    },
    "language_info": {
      "name": "python"
    }
  },
  "cells": [
    {
      "cell_type": "markdown",
      "metadata": {
        "id": "view-in-github",
        "colab_type": "text"
      },
      "source": [
        "<a href=\"https://colab.research.google.com/github/TeoNascim/Desafio-Final-Alura-Google/blob/main/Desafio_Final_Imers%C3%A3o_IA_AG.ipynb\" target=\"_parent\"><img src=\"https://colab.research.google.com/assets/colab-badge.svg\" alt=\"Open In Colab\"/></a>"
      ]
    },
    {
      "cell_type": "markdown",
      "source": [
        "O projeto trata de um corretor de Redação.\n",
        "\n",
        "A ideia é que a AI faça a correção dentro do que foi solicitado para ela via prompt.\n",
        "\n",
        "Eu fiz o prompt na AIStudio, gerei a resposta, depois e copiei o código e colei no Colab.\n",
        "\n",
        "Tive alguma dificuldades para gera a resposta, pq não estavs conseguindo entender a fazer o input, mas com base no que fizemos na imersão, eu consegui fazer o input junto com o while e gerar a resposta."
      ],
      "metadata": {
        "id": "5YTYoGMME0Ed"
      }
    },
    {
      "cell_type": "markdown",
      "source": [
        "Passo 1 - Instalando e importando as bibliotecas"
      ],
      "metadata": {
        "id": "MfWlNAEqF-zT"
      }
    },
    {
      "cell_type": "code",
      "source": [
        "\"\"\"\n",
        "At the command line, only need to run once to install the package via pip:\n",
        "\n",
        "$ pip install google-generativeai\n",
        "\"\"\"\n",
        "!pip install google-generativeai\n",
        "import google.generativeai as genai\n",
        "\n",
        "genai.configure(api_key = \"????????\")"
      ],
      "metadata": {
        "colab": {
          "base_uri": "https://localhost:8080/"
        },
        "id": "PhjcUIp65omX",
        "outputId": "805d9281-c1fd-466d-a7c8-b0e25a868dd1"
      },
      "execution_count": 65,
      "outputs": [
        {
          "output_type": "stream",
          "name": "stdout",
          "text": [
            "Requirement already satisfied: google-generativeai in /usr/local/lib/python3.10/dist-packages (0.5.2)\n",
            "Requirement already satisfied: google-ai-generativelanguage==0.6.2 in /usr/local/lib/python3.10/dist-packages (from google-generativeai) (0.6.2)\n",
            "Requirement already satisfied: google-api-core in /usr/local/lib/python3.10/dist-packages (from google-generativeai) (2.11.1)\n",
            "Requirement already satisfied: google-api-python-client in /usr/local/lib/python3.10/dist-packages (from google-generativeai) (2.84.0)\n",
            "Requirement already satisfied: google-auth>=2.15.0 in /usr/local/lib/python3.10/dist-packages (from google-generativeai) (2.27.0)\n",
            "Requirement already satisfied: protobuf in /usr/local/lib/python3.10/dist-packages (from google-generativeai) (3.20.3)\n",
            "Requirement already satisfied: pydantic in /usr/local/lib/python3.10/dist-packages (from google-generativeai) (2.7.1)\n",
            "Requirement already satisfied: tqdm in /usr/local/lib/python3.10/dist-packages (from google-generativeai) (4.66.4)\n",
            "Requirement already satisfied: typing-extensions in /usr/local/lib/python3.10/dist-packages (from google-generativeai) (4.11.0)\n",
            "Requirement already satisfied: proto-plus<2.0.0dev,>=1.22.3 in /usr/local/lib/python3.10/dist-packages (from google-ai-generativelanguage==0.6.2->google-generativeai) (1.23.0)\n",
            "Requirement already satisfied: cachetools<6.0,>=2.0.0 in /usr/local/lib/python3.10/dist-packages (from google-auth>=2.15.0->google-generativeai) (5.3.3)\n",
            "Requirement already satisfied: pyasn1-modules>=0.2.1 in /usr/local/lib/python3.10/dist-packages (from google-auth>=2.15.0->google-generativeai) (0.4.0)\n",
            "Requirement already satisfied: rsa<5,>=3.1.4 in /usr/local/lib/python3.10/dist-packages (from google-auth>=2.15.0->google-generativeai) (4.9)\n",
            "Requirement already satisfied: googleapis-common-protos<2.0.dev0,>=1.56.2 in /usr/local/lib/python3.10/dist-packages (from google-api-core->google-generativeai) (1.63.0)\n",
            "Requirement already satisfied: requests<3.0.0.dev0,>=2.18.0 in /usr/local/lib/python3.10/dist-packages (from google-api-core->google-generativeai) (2.31.0)\n",
            "Requirement already satisfied: httplib2<1dev,>=0.15.0 in /usr/local/lib/python3.10/dist-packages (from google-api-python-client->google-generativeai) (0.22.0)\n",
            "Requirement already satisfied: google-auth-httplib2>=0.1.0 in /usr/local/lib/python3.10/dist-packages (from google-api-python-client->google-generativeai) (0.1.1)\n",
            "Requirement already satisfied: uritemplate<5,>=3.0.1 in /usr/local/lib/python3.10/dist-packages (from google-api-python-client->google-generativeai) (4.1.1)\n",
            "Requirement already satisfied: annotated-types>=0.4.0 in /usr/local/lib/python3.10/dist-packages (from pydantic->google-generativeai) (0.6.0)\n",
            "Requirement already satisfied: pydantic-core==2.18.2 in /usr/local/lib/python3.10/dist-packages (from pydantic->google-generativeai) (2.18.2)\n",
            "Requirement already satisfied: grpcio<2.0dev,>=1.33.2 in /usr/local/lib/python3.10/dist-packages (from google-api-core->google-generativeai) (1.63.0)\n",
            "Requirement already satisfied: grpcio-status<2.0.dev0,>=1.33.2 in /usr/local/lib/python3.10/dist-packages (from google-api-core->google-generativeai) (1.48.2)\n",
            "Requirement already satisfied: pyparsing!=3.0.0,!=3.0.1,!=3.0.2,!=3.0.3,<4,>=2.4.2 in /usr/local/lib/python3.10/dist-packages (from httplib2<1dev,>=0.15.0->google-api-python-client->google-generativeai) (3.1.2)\n",
            "Requirement already satisfied: pyasn1<0.7.0,>=0.4.6 in /usr/local/lib/python3.10/dist-packages (from pyasn1-modules>=0.2.1->google-auth>=2.15.0->google-generativeai) (0.6.0)\n",
            "Requirement already satisfied: charset-normalizer<4,>=2 in /usr/local/lib/python3.10/dist-packages (from requests<3.0.0.dev0,>=2.18.0->google-api-core->google-generativeai) (3.3.2)\n",
            "Requirement already satisfied: idna<4,>=2.5 in /usr/local/lib/python3.10/dist-packages (from requests<3.0.0.dev0,>=2.18.0->google-api-core->google-generativeai) (3.7)\n",
            "Requirement already satisfied: urllib3<3,>=1.21.1 in /usr/local/lib/python3.10/dist-packages (from requests<3.0.0.dev0,>=2.18.0->google-api-core->google-generativeai) (2.0.7)\n",
            "Requirement already satisfied: certifi>=2017.4.17 in /usr/local/lib/python3.10/dist-packages (from requests<3.0.0.dev0,>=2.18.0->google-api-core->google-generativeai) (2024.2.2)\n"
          ]
        }
      ]
    },
    {
      "cell_type": "markdown",
      "source": [
        "Passo 2 - Colocar os parâmetros de temperatura, top p, e top k."
      ],
      "metadata": {
        "id": "FKTtGTJ_GJ0w"
      }
    },
    {
      "cell_type": "code",
      "source": [
        "# Set up the model\n",
        "generation_config = {\n",
        "  \"temperature\": 1,\n",
        "  \"top_p\": 0.95,\n",
        "  \"top_k\": 0,\n",
        "  \"max_output_tokens\": 8192,\n",
        "}"
      ],
      "metadata": {
        "id": "0Ck5m3NB5qvT"
      },
      "execution_count": 66,
      "outputs": []
    },
    {
      "cell_type": "markdown",
      "source": [
        "Passo 3- Parametrizando as configurações de segurança."
      ],
      "metadata": {
        "id": "IPjR0mEDGU8S"
      }
    },
    {
      "cell_type": "code",
      "source": [
        "safety_settings = [\n",
        "  {\n",
        "    \"category\": \"HARM_CATEGORY_HARASSMENT\",\n",
        "    \"threshold\": \"BLOCK_MEDIUM_AND_ABOVE\"\n",
        "  },\n",
        "  {\n",
        "    \"category\": \"HARM_CATEGORY_HATE_SPEECH\",\n",
        "    \"threshold\": \"BLOCK_MEDIUM_AND_ABOVE\"\n",
        "  },\n",
        "  {\n",
        "    \"category\": \"HARM_CATEGORY_SEXUALLY_EXPLICIT\",\n",
        "    \"threshold\": \"BLOCK_MEDIUM_AND_ABOVE\"\n",
        "  },\n",
        "  {\n",
        "    \"category\": \"HARM_CATEGORY_DANGEROUS_CONTENT\",\n",
        "    \"threshold\": \"BLOCK_MEDIUM_AND_ABOVE\"\n",
        "  },\n",
        "]"
      ],
      "metadata": {
        "id": "_Z0rOtIk5xpz"
      },
      "execution_count": 67,
      "outputs": []
    },
    {
      "cell_type": "markdown",
      "source": [
        "Passo 4 - Inicializando o Modelo."
      ],
      "metadata": {
        "id": "YEx7zN7SQj_z"
      }
    },
    {
      "cell_type": "code",
      "source": [
        "model = genai.GenerativeModel(model_name=\"gemini-1.5-pro-latest\",\n",
        "                              generation_config=generation_config,\n",
        "                              safety_settings=safety_settings)"
      ],
      "metadata": {
        "id": "jwlLVEl48yN3"
      },
      "execution_count": 69,
      "outputs": []
    },
    {
      "cell_type": "markdown",
      "source": [
        "Passo 5 - Criando o chat history."
      ],
      "metadata": {
        "id": "HSGLhWeUQzJ5"
      }
    },
    {
      "cell_type": "code",
      "source": [
        "convo = model.start_chat(history=[\n",
        "  {\n",
        "    \"role\": \"user\",\n",
        "    \"parts\": [\"Considere que você eh um professor de língua portuguesa e tem que corrigir a redação dissertativa a seguir:\\n\\n\\\" Redação de CAROLINA MENDES PEREIRA Em sua canção “Pela Internet”, o cantor brasileiro Gilberto Gil louva a quantidade de informações disponibilizadas pelas plataformas digitais para seus usuários. No entanto, com o avanço de algoritmos e mecanismos de controle de dados desenvolvidos por empresas de aplicativos e redes sociais, essa abundância vem sendo restringida e as notícias, e produtos culturais vêm sendo cada vez mais direcionados – uma conjuntura atual apta a moldar os hábitos e a informatividade dos usuários. Desse modo, tal manipulação do comportamento de usuários pela seleção prévia de dados é inconcebível e merece um olhar mais crítico de enfrentamento.  Em primeiro lugar, é válido reconhecer como esse panorama supracitado é capaz de limitar a própria cidadania do indivíduo. Acerca disso, é pertinente trazer o discurso do filósofo Jürgen Habermas, no qual ele conceitua a ação comunicativa: esta consiste na capacidade de uma pessoa em defender seus interesses e demonstrar o que acha melhor para a comunidade, demandando ampla informatividade prévia. Assim, sabendo que a cidadania consiste na luta pelo bem-estar social, caso os sujeitos não possuam um pleno conhecimento da realidade na qual estão inseridos e de como seu próximo pode desfrutar do bem comum – já que suas fontes de informação estão direcionadas –, eles serão incapazes de assumir plena defesa pelo coletivo. Logo, a manipulação do comportamento não pode ser aceita em nome do combate, também, ao individualismo e do zelo pelo bem grupal.  Em segundo lugar, vale salientar como o controle de dados pela internet vai de encontro à concepção do indivíduo pós-moderno. Isso porque, de acordo com o filósofo pós-estruturalista Stuart-Hall, o sujeito inserido na pós-modernidade é dotado de múltiplas identidades. Sendo assim, as preferências e ideias das pessoas estão em constante interação, o que pode ser limitado pela prévia seleção de informações, comerciais, produtos, entre outros. Por fim, seria negligente não notar como a tentativa de tais algoritmos de criar universos culturais adequados a um gosto de seu usuário criam uma falsa sensação de livre arbítrio e tolhe os múltiplos interesses e identidades que um sujeito poderia assumir.  Portanto, são necessárias medidas capazes de mitigar essa problemática. Para tanto, as instituições escolares são responsáveis pela educação digital e emancipação de seus alunos, com o intuito de deixá-los cientes dos mecanismos utilizados pelas novas tecnologias de comunicação e informação e torná-los mais críticos. Isso pode ser feito pela abordagem da temática, desde o ensino fundamental – uma vez que as gerações estão, cada vez mais cedo, imersas na realidade das novas tecnologias – , de maneira lúdica e adaptada à faixa etária, contando com a capacitação prévia dos professores acerca dos novos meios comunicativos. Por meio, também, de palestras com profissionais das áreas da informática que expliquem como os alunos poderão ampliar seu meio de informações e demonstrem como lidar com tais seletividades, haverá um caminho traçado para uma sociedade emancipada. \\\"\\n\\nAnalise a redação  destaque as seguintes informações:\\n\\n1- Qual a quantidade de linhas? É igual a 30?\\n2- É uma redação Dissertativa?\\n3- Se é uma redação dissertativa, as estrutura estão coerentes com a de uma redação dissertativa?\\n4- Ela possui erros de escrita? Se sim, destaque-os.\\n5- Ela possui erros de concordância? Se sim, destaque-os\\n6- Considerando o que tem e o que falta na redação, dê uma nota de 0 á 10.\"]\n",
        "  },\n",
        "  {\n",
        "    \"role\": \"model\",\n",
        "    \"parts\": [\"## Análise da Redação de Carolina Mendes Pereira\\n\\n**1. Quantidade de linhas:** A redação possui **mais de 30 linhas**. Para uma contagem precisa, seria necessário o texto formatado, e não transcrito.\\n\\n**2. Tipo de redação:** Sim, trata-se de uma **redação dissertativa-argumentativa**, pois a autora apresenta uma tese sobre a manipulação do comportamento de usuários na internet e defende seu ponto de vista com argumentos e exemplos.\\n\\n**3. Coerência da estrutura:** **Sim**, a estrutura da redação é coerente com a estrutura esperada em uma dissertação-argumentativa. Observa-se a presença dos seguintes elementos:\\n\\n* **Introdução:** Apresentação do tema (manipulação do comportamento online) e da tese (essa manipulação é inconcebível e precisa ser enfrentada).\\n* **Desenvolvimento:** Apresentação de dois argumentos principais: \\n    * **Argumento 1:** A manipulação online limita a cidadania, prejudicando a ação comunicativa proposta por Habermas.\\n    * **Argumento 2:** O controle de dados online se choca com a concepção do indivíduo pós-moderno de Stuart-Hall, que defende múltiplas identidades em constante interação.\\n* **Conclusão:** Proposta de intervenção para mitigar a problemática, com foco na educação digital nas escolas e conscientização dos alunos sobre os mecanismos de manipulação.\\n\\n**4. Erros de escrita:** \\n\\n* **\\\"Desse modo, tal manipulação do comportamento de usuários pela seleção prévia de dados é inconcebível e merece um olhar mais crítico de enfrentamento.\\\"**  - A expressão \\\"olhar mais crítico de enfrentamento\\\" soa redundante e pouco natural. É possível reescrever de forma mais concisa e elegante, como \\\"merece ser criticamente enfrentada\\\".\\n* **\\\"Em primeiro lugar, é válido reconhecer como esse panorama supracitado é capaz de limitar a própria cidadania do indivíduo.\\\"** - A construção \\\"é válido reconhecer como\\\" pode ser simplificada para \\\"É válido reconhecer que\\\" ou \\\"É importante destacar que\\\".\\n* **\\\"Assim, sabendo que a cidadania consiste na luta pelo bem-estar social, caso os sujeitos não possuam um pleno conhecimento da realidade na qual estão inseridos e de como seu próximo pode desfrutar do bem comum – já que suas fontes de informação estão direcionadas –, eles serão incapazes de assumir plena defesa pelo coletivo.\\\"** - A frase é excessivamente longa e complexa, prejudicando a fluidez da leitura. É recomendável dividi-la em períodos menores e revisar a pontuação.\\n* **\\\"Em segundo lugar, vale salientar como o controle de dados pela internet vai de encontro à concepção do indivíduo pós-moderno.\\\"** - Similar ao erro apontado anteriormente, a construção \\\"vale salientar como\\\" pode ser simplificada.\\n* **\\\"Sendo assim, as preferências e ideias das pessoas estão em constante interação, o que pode ser limitado pela prévia seleção de informações, comerciais, produtos, entre outros.\\\"** - A expressão \\\"entre outros\\\" é vaga e pouco precisa. É preferível especificar outros exemplos ou eliminar a expressão.\\n* **\\\"Por fim, seria negligente não notar como a tentativa de tais algoritmos de criar universos culturais adequados a um gosto de seu usuário criam uma falsa sensação de livre arbítrio e tolhe os múltiplos interesses e identidades que um sujeito poderia assumir.\\\"** - A concordância verbal está incorreta. O correto seria \\\"cria\\\" e \\\"tolhem\\\", concordando com \\\"a tentativa\\\".\\n\\n**5. Erros de concordância:** \\n\\n* **\\\"...a tentativa de tais algoritmos de criar universos culturais adequados a um gosto de seu usuário criam...\\\"**: O correto seria \\\"**cria** uma falsa sensação de livre arbítrio e **tolhe** os múltiplos interesses...\\\"\\n\\n**6. Nota:** Considerando os pontos positivos (estrutura coerente, argumentação consistente, uso de referências relevantes) e os pontos negativos (erros de escrita e concordância, algumas frases longas e complexas), a redação recebe a nota **8,0**. \\n\\n**Recomendações para aprimorar a redação:**\\n\\n* Revisar a escrita, buscando frases mais concisas e elegantes.\\n* Eliminar redundâncias e termos vagos.\\n* Atenção à concordância verbal e nominal.\\n* Dividir frases longas em períodos mais curtos.\\n* Especificar exemplos e evitar generalizações.\"]\n",
        "  },\n",
        "])"
      ],
      "metadata": {
        "id": "ZmXXxEq-8nv_"
      },
      "execution_count": 70,
      "outputs": []
    },
    {
      "cell_type": "markdown",
      "source": [
        "Passo 6- Criando o input do prompt (comando), com um while para ter um stop na solicitação de entrada do código, e gerando o espaço de input para ser inserido o prompt"
      ],
      "metadata": {
        "id": "1J64MnM0RDBQ"
      }
    },
    {
      "cell_type": "code",
      "source": [
        "prompt = input (\"Esperando o Prompt\")\n",
        "\n",
        "while prompt!= \"Fim\":\n",
        "  response = convo.send_message(prompt)\n",
        "  print(\"resposta:\", response.text, \"\\n\")\n",
        "  prompt = input (\" Esperando Prompt \")"
      ],
      "metadata": {
        "colab": {
          "base_uri": "https://localhost:8080/",
          "height": 749
        },
        "id": "Oqx-toLQ7jza",
        "outputId": "bd040471-518c-46e7-cc2f-cd768a1af260"
      },
      "execution_count": 71,
      "outputs": [
        {
          "name": "stdout",
          "output_type": "stream",
          "text": [
            "Esperando o PromptConsidere que você eh um professor de língua portuguesa e tem que corrigir a redação dissertativa a seguir:  \" Redação de CAROLINA MENDES PEREIRA Em sua canção “Pela Internet”, o cantor brasileiro Gilberto Gil louva a quantidade de informações disponibilizadas pelas plataformas digitais para seus usuários. No entanto, com o avanço de algoritmos e mecanismos de controle de dados desenvolvidos por empresas de aplicativos e redes sociais, essa abundância vem sendo restringida e as notícias, e produtos culturais vêm sendo cada vez mais direcionados – uma conjuntura atual apta a moldar os hábitos e a informatividade dos usuários. Desse modo, tal manipulação do comportamento de usuários pela seleção prévia de dados é inconcebível e merece um olhar mais crítico de enfrentamento.  Em primeiro lugar, é válido reconhecer como esse panorama supracitado é capaz de limitar a própria cidadania do indivíduo. Acerca disso, é pertinente trazer o discurso do filósofo Jürgen Habermas, no qual ele conceitua a ação comunicativa: esta consiste na capacidade de uma pessoa em defender seus interesses e demonstrar o que acha melhor para a comunidade, demandando ampla informatividade prévia. Assim, sabendo que a cidadania consiste na luta pelo bem-estar social, caso os sujeitos não possuam um pleno conhecimento da realidade na qual estão inseridos e de como seu próximo pode desfrutar do bem comum – já que suas fontes de informação estão direcionadas –, eles serão incapazes de assumir plena defesa pelo coletivo. Logo, a manipulação do comportamento não pode ser aceita em nome do combate, também, ao individualismo e do zelo pelo bem grupal.  Em segundo lugar, vale salientar como o controle de dados pela internet vai de encontro à concepção do indivíduo pós-moderno. Isso porque, de acordo com o filósofo pós-estruturalista Stuart-Hall, o sujeito inserido na pós-modernidade é dotado de múltiplas identidades. Sendo assim, as preferências e ideias das pessoas estão em constante interação, o que pode ser limitado pela prévia seleção de informações, comerciais, produtos, entre outros. Por fim, seria negligente não notar como a tentativa de tais algoritmos de criar universos culturais adequados a um gosto de seu usuário criam uma falsa sensação de livre arbítrio e tolhe os múltiplos interesses e identidades que um sujeito poderia assumir.  Portanto, são necessárias medidas capazes de mitigar essa problemática. Para tanto, as instituições escolares são responsáveis pela educação digital e emancipação de seus alunos, com o intuito de deixá-los cientes dos mecanismos utilizados pelas novas tecnologias de comunicação e informação e torná-los mais críticos. Isso pode ser feito pela abordagem da temática, desde o ensino fundamental – uma vez que as gerações estão, cada vez mais cedo, imersas na realidade das novas tecnologias – , de maneira lúdica e adaptada à faixa etária, contando com a capacitação prévia dos professores acerca dos novos meios comunicativos. Por meio, também, de palestras com profissionais das áreas da informática que expliquem como os alunos poderão ampliar seu meio de informações e demonstrem como lidar com tais seletividades, haverá um caminho traçado para uma sociedade emancipada. \"  Analise a redação  destaque as seguintes informações:  1- Qual a quantidade de linhas? É igual a 30? 2- É uma redação Dissertativa? 3- Se é uma redação dissertativa, as estrutura estão coerentes com a de uma redação dissertativa? 4- Ela possui erros de escrita? Se sim, destaque-os. 5- Ela possui erros de concordância? Se sim, destaque-os 6- Considerando o que tem e o que falta na redação, dê uma nota de 0 á 10.\n",
            "resposta: ## Análise da Redação de Carolina Mendes Pereira\n",
            "\n",
            "**1. Quantidade de linhas:** A redação possui **mais de 30 linhas**. Para uma contagem precisa, seria necessário o texto formatado, e não transcrito.\n",
            "\n",
            "**2. Tipo de redação:** Sim, trata-se de uma **redação dissertativa-argumentativa**. A autora defende a tese de que a manipulação do comportamento online, através de algoritmos e controle de dados, é prejudicial e precisa ser enfrentada. \n",
            "\n",
            "**3. Coerência da estrutura:** **Sim**, a redação apresenta uma estrutura coerente com o gênero dissertativo-argumentativo:\n",
            "\n",
            "* **Introdução:** Contextualiza o tema com a música de Gilberto Gil, apresenta o problema da manipulação online e expõe a tese.\n",
            "* **Desenvolvimento:**  Dois argumentos sustentam a tese:\n",
            "    * **Argumento 1:**  A manipulação limita a cidadania, prejudicando a ação comunicativa (Habermas).\n",
            "    * **Argumento 2:**  O controle de dados online se choca com a concepção do indivíduo pós-moderno e suas múltiplas identidades (Stuart-Hall).\n",
            "* **Conclusão:** Propõe intervenção através da educação digital nas escolas para formar cidadãos críticos e conscientes.\n",
            "\n",
            "**4. Erros de escrita:** \n",
            "\n",
            "* **\"Desse modo, tal manipulação do comportamento de usuários pela seleção prévia de dados é inconcebível e merece um olhar mais crítico de enfrentamento.\"**  - A expressão \"olhar mais crítico de enfrentamento\" é redundante e prolixa.  Sugestão: \"merece ser criticamente enfrentada\".\n",
            "* **\"Em primeiro lugar, é válido reconhecer como esse panorama supracitado é capaz de limitar a própria cidadania do indivíduo.\"** - A construção \"é válido reconhecer como\" pode ser simplificada: \"É válido reconhecer que\" ou \"É importante destacar que\".\n",
            "* **\"Assim, sabendo que a cidadania consiste na luta pelo bem-estar social, caso os sujeitos não possuam um pleno conhecimento da realidade na qual estão inseridos e de como seu próximo pode desfrutar do bem comum – já que suas fontes de informação estão direcionadas –, eles serão incapazes de assumir plena defesa pelo coletivo.\"** - A frase é excessivamente longa e complexa. Dividir em períodos menores e revisar a pontuação melhoraria a fluidez.\n",
            "* **\"Em segundo lugar, vale salientar como o controle de dados pela internet vai de encontro à concepção do indivíduo pós-moderno.\"** -  A construção \"vale salientar como\" pode ser simplificada, assim como no erro anterior.\n",
            "* **\"Sendo assim, as preferências e ideias das pessoas estão em constante interação, o que pode ser limitado pela prévia seleção de informações, comerciais, produtos, entre outros.\"** -  \"Entre outros\" é vago.  Especificar exemplos ou eliminar a expressão deixaria a frase mais precisa.\n",
            "* **\"Por fim, seria negligente não notar como a tentativa de tais algoritmos de criar universos culturais adequados a um gosto de seu usuário criam uma falsa sensação de livre arbítrio e tolhe os múltiplos interesses e identidades que um sujeito poderia assumir.\"** -  Concordância verbal incorreta. O correto é \"cria\" e \"tolhe\", concordando com \"a tentativa\".\n",
            "\n",
            "**5. Erros de concordância:**\n",
            "\n",
            "* **\"...a tentativa de tais algoritmos de criar universos culturais adequados a um gosto de seu usuário criam...\"**:  O correto é:  \"**cria** uma falsa sensação de livre arbítrio e **tolhe** os múltiplos interesses...\".\n",
            "\n",
            "**6. Nota:** A redação apresenta bom desenvolvimento argumentativo, uso de referências relevantes e estrutura adequada.  No entanto, a presença de erros de escrita e concordância prejudica a qualidade textual. Considerando esses pontos, a nota final é **7,5**.\n",
            "\n",
            "**Recomendações:**\n",
            "\n",
            "* Revisar a escrita buscando frases mais concisas e elegantes, eliminando redundâncias e termos vagos.\n",
            "*  Atenção à concordância verbal e nominal. \n",
            "* Dividir frases longas, aprimorando a pontuação. \n",
            "* Especificar exemplos e evitar generalizações.\n",
            "\n",
            "Com algumas correções pontuais, a redação da Carolina pode alcançar uma nota ainda melhor! \n",
            " \n",
            "\n",
            " Esperando Prompt Fim\n"
          ]
        }
      ]
    }
  ]
}